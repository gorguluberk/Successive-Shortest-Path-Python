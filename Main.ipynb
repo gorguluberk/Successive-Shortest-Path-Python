{
 "cells": [
  {
   "cell_type": "code",
   "execution_count": null,
   "metadata": {
    "collapsed": false
   },
   "outputs": [],
   "source": [
    "from Graph import Graph\n",
    "for i in range(0,10):\n",
    "    try:\n",
    "        H = Graph()\n",
    "        H.generateRandomGraph()\n",
    "        start2=time()\n",
    "        p2,a2,c2,grph2=Graph.SuccessiveShortestPath(H)\n",
    "        end2 = time()\n",
    "\n",
    "        start=time()\n",
    "        p,a,c,grp=Graph.CapacityScalingSuccessiveShortestPath(H)\n",
    "        end = time()\n",
    "\n",
    "         \n",
    "        print end2-start2,\"\\t\",end-start\n",
    "    except:\n",
    "        continue\n",
    "\n",
    "\n"
   ]
  },
  {
   "cell_type": "code",
   "execution_count": null,
   "metadata": {
    "collapsed": true
   },
   "outputs": [],
   "source": []
  }
 ],
 "metadata": {
  "anaconda-cloud": {},
  "kernelspec": {
   "display_name": "Python [conda root]",
   "language": "python",
   "name": "conda-root-py"
  },
  "language_info": {
   "codemirror_mode": {
    "name": "ipython",
    "version": 2
   },
   "file_extension": ".py",
   "mimetype": "text/x-python",
   "name": "python",
   "nbconvert_exporter": "python",
   "pygments_lexer": "ipython2",
   "version": "2.7.12"
  }
 },
 "nbformat": 4,
 "nbformat_minor": 1
}
